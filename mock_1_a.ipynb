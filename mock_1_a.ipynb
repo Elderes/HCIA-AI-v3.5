{
 "cells": [
  {
   "cell_type": "code",
   "execution_count": 2,
   "id": "9e53302b",
   "metadata": {},
   "outputs": [
    {
     "name": "stdout",
     "output_type": "stream",
     "text": [
      "   age  salary  experience  target\n",
      "0   25   50000           2       1\n",
      "1   32   60000           5       0\n",
      "2   47   80000          10       1\n",
      "3   51  120000          15       0\n",
      "4   62  100000          20       1\n"
     ]
    },
    {
     "data": {
      "image/png": "[encoded data removed]",
      "text/plain": [
       "<Figure size 640x480 with 1 Axes>"
      ]
     },
     "metadata": {},
     "output_type": "display_data"
    }
   ],
   "source": [
    "# Task 1\n",
    "\n",
    "# Subtask 1\n",
    "# Import necessary libraries\n",
    "import pandas as pd\n",
    "import numpy as np\n",
    "import matplotlib.pyplot as plt\n",
    "\n",
    "# Load and print data\n",
    "data = pd.read_csv(r\"C:\\Users\\abrao\\Documents\\Archive\\data.csv\")\n",
    "print(data.head(5))\n",
    "\n",
    "# Subtask 2\n",
    "# Histogram of age distribution\n",
    "plt.hist(data['age'], color='teal')\n",
    "plt.xlabel('age')\n",
    "plt.ylabel('frequency')\n",
    "plt.show()"
   ]
  },
  {
   "cell_type": "code",
   "execution_count": 16,
   "id": "5302075c",
   "metadata": {},
   "outputs": [],
   "source": [
    "# Task 2\n",
    "\n",
    "# Subtask 1\n",
    "x = data.drop('target', axis=1)\n",
    "y = data['target']\n",
    "\n",
    "# Subtask 2\n",
    "from sklearn.preprocessing import StandardScaler\n",
    "from sklearn.model_selection import train_test_split\n",
    "\n",
    "scaler = StandardScaler()\n",
    "x_scaled = scaler.fit_transform(x)\n",
    "\n",
    "x_train, x_test, y_train, y_test = train_test_split(x_scaled, y, test_size=0.2)"
   ]
  },
  {
   "cell_type": "code",
   "execution_count": 26,
   "id": "a76f2ca3",
   "metadata": {},
   "outputs": [
    {
     "name": "stdout",
     "output_type": "stream",
     "text": [
      "                          Model       MSE\n",
      "0             Linear Regression  0.195393\n",
      "1       Random Forest Regressor  0.286100\n",
      "2  Gradient Boosting Regression  0.499107\n",
      "old score: 0.28609999999999997. new score: 0.25311151464852605\n"
     ]
    }
   ],
   "source": [
    "# Task 3\n",
    "\n",
    "# Subtask 1\n",
    "from sklearn.linear_model import LinearRegression\n",
    "from sklearn.ensemble import RandomForestRegressor, GradientBoostingRegressor\n",
    "\n",
    "# Subtask 2\n",
    "from sklearn.metrics import mean_squared_error\n",
    "\n",
    "linear_rgs = LinearRegression().fit(x_train, y_train)\n",
    "linear_rgs_y_pred = linear_rgs.predict(x_test)\n",
    "linear_rgs_mse = mean_squared_error(y_test, linear_rgs_y_pred)\n",
    "\n",
    "randon_forest_rgs = RandomForestRegressor().fit(x_train, y_train)\n",
    "randon_forest_rgs_y_pred = randon_forest_rgs.predict(x_test)\n",
    "randon_forest_rgs_mse = mean_squared_error(y_test, randon_forest_rgs_y_pred)\n",
    "\n",
    "gradient_boostin_rgs = GradientBoostingRegressor().fit(x_train, y_train)\n",
    "gradient_boostin_rgs_y_pred = gradient_boostin_rgs.predict(x_test)\n",
    "gradient_boostin_rgs_mse = mean_squared_error(y_test, gradient_boostin_rgs_y_pred)\n",
    "\n",
    "data = {\n",
    "    'Model': ['Linear Regression', 'Random Forest Regressor', 'Gradient Boosting Regression'],\n",
    "    'MSE': [linear_rgs_mse, randon_forest_rgs_mse, gradient_boostin_rgs_mse]\n",
    "}\n",
    "\n",
    "print(pd.DataFrame(data))\n",
    "\n",
    "# Subtask 3\n",
    "from sklearn.model_selection import GridSearchCV\n",
    "\n",
    "param_grid = {\n",
    "    'n_estimators' : [1, 10, 100, 1000],\n",
    "    'min_samples_split': [2, 3, 4, 5],\n",
    "}\n",
    "\n",
    "grid_search = GridSearchCV(estimator=RandomForestRegressor(), param_grid=param_grid, cv=2)\n",
    "grid_search.fit(x_train, y_train)\n",
    "grid_search_y_pred = grid_search.predict(x_test)\n",
    "grid_search_mse = mean_squared_error(y_test, grid_search_y_pred)\n",
    "\n",
    "print(f'old score: {randon_forest_rgs_mse}. new score: {grid_search_mse}')"
   ]
  }
 ],
 "metadata": {
  "kernelspec": {
   "display_name": "Python 3 (ipykernel)",
   "language": "python",
   "name": "python3"
  },
  "language_info": {
   "codemirror_mode": {
    "name": "ipython",
    "version": 3
   },
   "file_extension": ".py",
   "mimetype": "text/x-python",
   "name": "python",
   "nbconvert_exporter": "python",
   "pygments_lexer": "ipython3",
   "version": "3.11.7"
  }
 },
 "nbformat": 4,
 "nbformat_minor": 5
}
