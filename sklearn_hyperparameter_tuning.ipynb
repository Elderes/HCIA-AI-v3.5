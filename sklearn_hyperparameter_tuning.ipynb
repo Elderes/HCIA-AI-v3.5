{
 "cells": [
  {
   "cell_type": "code",
   "execution_count": 3,
   "id": "f171c584-aaed-4fa5-88e2-a3d6010217b8",
   "metadata": {},
   "outputs": [
    {
     "name": "stdout",
     "output_type": "stream",
     "text": [
      "best parameters: {'max_depth': 30, 'n_estimators': 200}\n",
      "best cross-validation score: 0.9515704531346989\n"
     ]
    }
   ],
   "source": [
    "from sklearn.datasets import load_digits\n",
    "from sklearn.ensemble import RandomForestClassifier\n",
    "from sklearn.model_selection import GridSearchCV\n",
    "\n",
    "# Load data\n",
    "data = load_digits()\n",
    "x, y = data.data, data.target\n",
    "\n",
    "# Define paraeter grid\n",
    "param_grid = {\n",
    "    'n_estimators': [50, 100, 200],\n",
    "    'max_depth': [None, 10, 20, 30]\n",
    "}\n",
    "\n",
    "# Initialize GridSearchCV\n",
    "grid_search = GridSearchCV(estimator=RandomForestClassifier(), param_grid=param_grid, cv=10)\n",
    "\n",
    "# Fit the data\n",
    "grid_search.fit(x, y)\n",
    "\n",
    "# Best params and score\n",
    "print('best parameters:', grid_search.best_params_)\n",
    "print('best cross-validation score:', grid_search.best_score_)"
   ]
  },
  {
   "cell_type": "code",
   "execution_count": 4,
   "id": "1892b78b",
   "metadata": {},
   "outputs": [
    {
     "name": "stdout",
     "output_type": "stream",
     "text": [
      "best parameters: {'learning_rate': 0.1, 'n_estimators': 300}\n",
      "best cross-validation score: 0.9648657040832169\n"
     ]
    }
   ],
   "source": [
    "from sklearn.datasets import load_breast_cancer\n",
    "from sklearn.ensemble import GradientBoostingClassifier\n",
    "from sklearn.model_selection import GridSearchCV\n",
    "\n",
    "# Load data\n",
    "data = load_breast_cancer()\n",
    "x, y = data.data, data.target\n",
    "\n",
    "# Define parameter grid\n",
    "param_grid = {\n",
    "    'learning_rate': [0.01, 0.1, 0.2],\n",
    "    'n_estimators': [100, 200, 300]\n",
    "}\n",
    "\n",
    "# Initialize GridSearchCV\n",
    "grid_search = GridSearchCV(estimator=GradientBoostingClassifier(), param_grid=param_grid, cv=5)\n",
    "\n",
    "# Fit the data\n",
    "grid_search.fit(x, y)\n",
    "\n",
    "# Best params and score\n",
    "print('best parameters:', grid_search.best_params_)\n",
    "print('best cross-validation score:', grid_search.best_score_)"
   ]
  },
  {
   "cell_type": "code",
   "execution_count": 10,
   "id": "10733216",
   "metadata": {},
   "outputs": [
    {
     "name": "stdout",
     "output_type": "stream",
     "text": [
      "best parameters: {'n_neighbors': 3, 'weights': 'distance'}\n",
      "best cross-validation score: 0.7428104575163398\n"
     ]
    }
   ],
   "source": [
    "from sklearn.datasets import load_wine\n",
    "from sklearn.neighbors import KNeighborsClassifier\n",
    "from sklearn.model_selection import GridSearchCV\n",
    "\n",
    "# Load data\n",
    "data = load_wine()\n",
    "x, y = data.data, data.target\n",
    "\n",
    "# Define parameter grid\n",
    "param_grid = {\n",
    "    'n_neighbors': [3, 5, 7, 9],\n",
    "    'weights': ['uniform', 'distance']\n",
    "}\n",
    "\n",
    "# Initialize GridSearchCV\n",
    "grid_search = GridSearchCV(estimator=KNeighborsClassifier(), param_grid=param_grid, cv=10)\n",
    "\n",
    "# Fit the data\n",
    "grid_search.fit(x, y)\n",
    "\n",
    "# Best params and score\n",
    "print('best parameters:', grid_search.best_params_)\n",
    "print('best cross-validation score:', grid_search.best_score_)"
   ]
  },
  {
   "cell_type": "code",
   "execution_count": 12,
   "id": "101b59ab",
   "metadata": {},
   "outputs": [
    {
     "name": "stdout",
     "output_type": "stream",
     "text": [
      "best parameters: {'C': 0.1, 'kernel': 'poly'}\n",
      "best cross-validation score: 0.9866666666666667\n"
     ]
    }
   ],
   "source": [
    "from sklearn.datasets import load_iris\n",
    "from sklearn.svm import SVC\n",
    "from sklearn.model_selection import GridSearchCV\n",
    "\n",
    "# Load data\n",
    "data = load_iris()\n",
    "x, y = data.data, data.target\n",
    "\n",
    "# Define parameter grid\n",
    "param_grid = {\n",
    "    'C': [0.1, 1, 10, 100],\n",
    "    'kernel': ['linear', 'rbf', 'poly']\n",
    "}\n",
    "\n",
    "# Initialize GridSearchCV\n",
    "grid_search = GridSearchCV(estimator=SVC(), param_grid=param_grid, cv=5)\n",
    "\n",
    "# Fit the data\n",
    "grid_search.fit(x, y)\n",
    "\n",
    "# Best params and score\n",
    "print('best parameters:', grid_search.best_params_)\n",
    "print('best cross-validation score:', grid_search.best_score_)"
   ]
  },
  {
   "cell_type": "code",
   "execution_count": 17,
   "id": "b0905321",
   "metadata": {},
   "outputs": [
    {
     "name": "stdout",
     "output_type": "stream",
     "text": [
      "best parameters: {'alpha': 100}\n",
      "best cross-validation score: 0.5534066789698546\n"
     ]
    }
   ],
   "source": [
    "from sklearn.datasets import fetch_california_housing\n",
    "from sklearn.linear_model import Ridge\n",
    "from sklearn.model_selection import GridSearchCV\n",
    "\n",
    "# Load data\n",
    "data = fetch_california_housing()\n",
    "x, y = data.data, data.target\n",
    "\n",
    "# Define parameter grid\n",
    "param_grid = {\n",
    "    'alpha': [0.1, 1, 10, 100, 1000]\n",
    "}\n",
    "\n",
    "# Initialize GridSearchCV\n",
    "grid_search = GridSearchCV(estimator=Ridge(), param_grid=param_grid, cv=5)\n",
    "\n",
    "# Fit the data\n",
    "grid_search.fit(x, y)\n",
    "\n",
    "# Best params and scores\n",
    "print('best parameters:', grid_search.best_params_)\n",
    "print('best cross-validation score:', grid_search.best_score_)"
   ]
  }
 ],
 "metadata": {
  "kernelspec": {
   "display_name": "Python 3 (ipykernel)",
   "language": "python",
   "name": "python3"
  },
  "language_info": {
   "codemirror_mode": {
    "name": "ipython",
    "version": 3
   },
   "file_extension": ".py",
   "mimetype": "text/x-python",
   "name": "python",
   "nbconvert_exporter": "python",
   "pygments_lexer": "ipython3",
   "version": "3.11.7"
  }
 },
 "nbformat": 4,
 "nbformat_minor": 5
}
