{
 "cells": [
  {
   "cell_type": "code",
   "execution_count": 20,
   "id": "2f756026-9140-4737-ba1c-cff876f459a8",
   "metadata": {},
   "outputs": [],
   "source": [
    "import numpy as np\n",
    "import mindspore.ops as ops\n",
    "import mindspore.nn as nn\n",
    "from mindspore import ParameterTuple\n",
    "from mindspore import context, Tensor\n",
    "from mindspore.common.initializer import TruncatedNormal, Normal\n",
    "from mindspore.nn import Dense, WithLossCell, SoftmaxCrossEntropyWithLogits, Momentum\n",
    "from mindspore import ms_function\n",
    "from mindspore import dtype as mstype"
   ]
  },
  {
   "cell_type": "code",
   "execution_count": 3,
   "id": "0936cea4-7a05-4e31-bb01-bb4ab01dec3c",
   "metadata": {},
   "outputs": [],
   "source": [
    "# Switch to PyNative mode\n",
    "context.set_context(mode=context.PYNATIVE_MODE, device_target='CPU')"
   ]
  },
  {
   "cell_type": "code",
   "execution_count": 29,
   "id": "86406c5c-8864-42b5-93f3-69aad7ff2fe0",
   "metadata": {},
   "outputs": [
    {
     "name": "stdout",
     "output_type": "stream",
     "text": [
      "Conv2d<input_channels=3, output_channels=4, kernel_size=(3, 3), stride=(1, 1), pad_mode=same, padding=0, dilation=(1, 1), group=1, has_bias=False, weight_init=normal, bias_init=zeros, format=NCHW>\n",
      "[[[[ 0.0146143   0.02124701  0.02124701  0.02124701  0.01451317]\n",
      "   [ 0.03753834  0.05598685  0.05598685  0.05598685  0.05175477]\n",
      "   [ 0.03753834  0.05598685  0.05598685  0.05598685  0.05175477]\n",
      "   [ 0.03753834  0.05598685  0.05598685  0.05598685  0.05175477]\n",
      "   [ 0.03922746  0.06110519  0.06110519  0.06110519  0.04265858]]\n",
      "\n",
      "  [[ 0.02232655 -0.01406118 -0.01406118 -0.01406118 -0.02034742]\n",
      "   [-0.02411446 -0.04379661 -0.04379661 -0.04379661 -0.02431867]\n",
      "   [-0.02411446 -0.04379661 -0.04379661 -0.04379661 -0.02431867]\n",
      "   [-0.02411446 -0.04379661 -0.04379661 -0.04379661 -0.02431867]\n",
      "   [-0.03821754 -0.05530538 -0.05530538 -0.05530538 -0.02508224]]\n",
      "\n",
      "  [[-0.04889525 -0.08460522 -0.08460522 -0.08460522 -0.05639731]\n",
      "   [-0.05491669 -0.07595994 -0.07595994 -0.07595994 -0.05406899]\n",
      "   [-0.05491669 -0.07595994 -0.07595994 -0.07595994 -0.05406899]\n",
      "   [-0.05491669 -0.07595994 -0.07595994 -0.07595994 -0.05406899]\n",
      "   [-0.01931542 -0.02746833 -0.02746833 -0.02746833 -0.03263894]]\n",
      "\n",
      "  [[-0.031749   -0.04549545 -0.04549545 -0.04549545 -0.01281801]\n",
      "   [-0.05460159 -0.0449244  -0.0449244  -0.0449244   0.00362859]\n",
      "   [-0.05460159 -0.0449244  -0.0449244  -0.0449244   0.00362859]\n",
      "   [-0.05460159 -0.0449244  -0.0449244  -0.0449244   0.00362859]\n",
      "   [-0.06171681 -0.03470973 -0.03470973 -0.03470973 -0.00084057]]]]\n"
     ]
    }
   ],
   "source": [
    "# Print the output of the Conv2D\n",
    "conv = nn.Conv2d(3, 4, 3, bias_init='zeros')\n",
    "input_data = Tensor(np.ones([1, 3, 5, 5]).astype(np.float32))\n",
    "output = conv(input_data)\n",
    "print(conv)\n",
    "print(output.asnumpy())"
   ]
  },
  {
   "cell_type": "code",
   "execution_count": 32,
   "id": "20114b30-9167-4a50-a71e-a8ed564903ba",
   "metadata": {},
   "outputs": [
    {
     "name": "stdout",
     "output_type": "stream",
     "text": [
      "[[3. 3. 3.]\n",
      " [3. 3. 3.]\n",
      " [3. 3. 3.]]\n"
     ]
    }
   ],
   "source": [
    "# Define add function\n",
    "def add_func(x, y):\n",
    "    z = ops.add(x, y)\n",
    "    z = ops.add(z, x)\n",
    "    return z\n",
    "\n",
    "x = Tensor(np.ones([3, 3]))\n",
    "y = Tensor(np.ones([3, 3], dtype=np.float32))\n",
    "output = add_func(x, y)\n",
    "\n",
    "print(output.asnumpy())"
   ]
  },
  {
   "cell_type": "code",
   "execution_count": 10,
   "id": "0772f5eb-72d5-4b5d-be88-a413883253bb",
   "metadata": {},
   "outputs": [
    {
     "name": "stdout",
     "output_type": "stream",
     "text": [
      "[[2. 2. 2. 2.]\n",
      " [2. 2. 2. 2.]\n",
      " [2. 2. 2. 2.]\n",
      " [2. 2. 2. 2.]]\n"
     ]
    }
   ],
   "source": [
    "context.set_context(mode=context.PYNATIVE_MODE, device_target='CPU')\n",
    "\n",
    "@ms_function\n",
    "def add_fn(x, y):\n",
    "    res = ops.add(x, y)\n",
    "    return res\n",
    "\n",
    "x = Tensor(np.ones([4, 4]).astype(np.float32))\n",
    "y = Tensor(np.ones([4, 4]).astype(np.float32))\n",
    "z = add_fn(x, y)\n",
    "\n",
    "print(z.asnumpy())"
   ]
  },
  {
   "cell_type": "code",
   "execution_count": 13,
   "id": "044ec17f-ff03-4cba-84d6-651784b9da23",
   "metadata": {},
   "outputs": [
    {
     "name": "stdout",
     "output_type": "stream",
     "text": [
      "[[[[-0.00486121 -0.00426182  0.01304711]\n",
      "   [-0.0401778  -0.04261138 -0.05288866]\n",
      "   [ 0.05595319  0.0143291   0.01743981]]\n",
      "\n",
      "  [[ 0.07857811 -0.04865037 -0.04082615]\n",
      "   [-0.0407213   0.01885145 -0.03312718]\n",
      "   [ 0.04571144  0.0049194   0.04897681]]\n",
      "\n",
      "  [[-0.03116783 -0.06502506 -0.05381576]\n",
      "   [-0.06943066 -0.05022642 -0.07986193]\n",
      "   [ 0.1514199  -0.00774919 -0.00895873]]\n",
      "\n",
      "  [[ 0.03406389 -0.04348302 -0.08774997]\n",
      "   [ 0.10040696  0.04612008 -0.00733287]\n",
      "   [ 0.00314185  0.03010257 -0.00499284]]]\n",
      "\n",
      "\n",
      " [[[-0.02658262 -0.0099051   0.00398355]\n",
      "   [ 0.01013395 -0.03654826  0.01247858]\n",
      "   [ 0.03328361  0.0030569   0.01121306]]\n",
      "\n",
      "  [[ 0.01739827 -0.06154104  0.0163665 ]\n",
      "   [-0.00363971  0.05736038  0.02763404]\n",
      "   [ 0.03927846 -0.02689574  0.00300152]]\n",
      "\n",
      "  [[ 0.00842803 -0.02577049  0.02012745]\n",
      "   [-0.00594857  0.01501819 -0.02091446]\n",
      "   [-0.02421508 -0.03489502  0.04148066]]\n",
      "\n",
      "  [[ 0.02095094 -0.05682157  0.06493081]\n",
      "   [-0.10339901  0.04774071 -0.06323282]\n",
      "   [-0.02638944 -0.01695368 -0.02592031]]]]\n"
     ]
    }
   ],
   "source": [
    "# Conv2d instantiation operation\n",
    "conv_obj = nn.Conv2d(in_channels=3, out_channels=4, kernel_size=3, stride=2, padding=0)\n",
    "conv_obj.init_parameters_data()\n",
    "\n",
    "@ms_function\n",
    "def conv_fn(x):\n",
    "    res = conv_obj(x)\n",
    "    return res\n",
    "\n",
    "input_data = np.random.randn(2, 3, 6, 6).astype(np.float32)\n",
    "z = conv_fn(Tensor(input_data))\n",
    "print(z.asnumpy())"
   ]
  },
  {
   "cell_type": "code",
   "execution_count": 14,
   "id": "5f7c7c86-c5aa-4be0-96fc-2440d4685337",
   "metadata": {},
   "outputs": [
    {
     "name": "stdout",
     "output_type": "stream",
     "text": [
      "(Tensor(shape=[], dtype=Int32, value= 2), Tensor(shape=[], dtype=Int32, value= 1))\n"
     ]
    }
   ],
   "source": [
    "def mul(x, y):\n",
    "    return x * y\n",
    "\n",
    "def mainf(x, y):\n",
    "    return ops.GradOperation(get_all=True)(mul)(x, y)\n",
    "\n",
    "x = Tensor(1, mstype.int32)\n",
    "y = Tensor(2, mstype.int32)\n",
    "\n",
    "print(mainf(x, y))"
   ]
  },
  {
   "cell_type": "code",
   "execution_count": 22,
   "id": "c48c1fd1-421d-4673-89ee-77ce9478fee2",
   "metadata": {},
   "outputs": [],
   "source": [
    "context.set_context(mode=context.PYNATIVE_MODE, device_target='CPU')\n",
    "\n",
    "class LeNet5(nn.Cell):\n",
    "    # LeNet network structure\n",
    "    def __init__(self, num_class=10, num_channel=1):\n",
    "        super(LeNet5, self).__init__()\n",
    "        self.conv1 = nn.Conv2d(num_channel, 6, 5, pad_mode='valid')\n",
    "        self.conv2 = nn.Conv2d(6, 16, 5, pad_mode='valid')\n",
    "        self.fc1 = nn.Dense(16 * 5 * 5, 120, weight_init=Normal(0.02))\n",
    "        self.fc2 = nn.Dense(120, 84, weight_init=Normal(0.02))\n",
    "        self.fc3 = nn.Dense(84, num_class, weight_init=Normal(0.02))\n",
    "        self.relu = nn.ReLU()\n",
    "        self.max_pool2d = nn.MaxPool2d(kernel_size=2, stride=2)\n",
    "        self.flatten = nn.Flatten()\n",
    "        \n",
    "    def construct(self, x):\n",
    "        # Construct the forward network using defined operations\n",
    "        x = self.conv1(x)\n",
    "        x = self.relu(x)\n",
    "        x = self.max_pool2d(x)\n",
    "        x = self.conv2(x)\n",
    "        x = self.relu(x)\n",
    "        x = self.max_pool2d(x)\n",
    "        x = self.flatten(x)\n",
    "        x = self.fc1(x)\n",
    "        x = self.relu(x)\n",
    "        x = self.fc2(x)\n",
    "        x = self.relu(x)\n",
    "        x = self.fc3(x)\n",
    "        return x\n",
    "    \n",
    "# Instantiate the network\n",
    "net = LeNet5()"
   ]
  },
  {
   "cell_type": "code",
   "execution_count": 23,
   "id": "30ac297b-03e4-43ba-8187-95ec302febd1",
   "metadata": {},
   "outputs": [],
   "source": [
    "class GradWrap(nn.Cell):\n",
    "    # Find function input gradient\n",
    "    def __init__(self, network):\n",
    "        super(GradWrap, self).__init__(auto_prefix=False)\n",
    "        self.network = network\n",
    "        self.weights = ParameterTuple(filter(lambda x: x.requires_grad, network.get_parameters()))\n",
    "        \n",
    "    def construct(self, x, label):\n",
    "        weights = self.weights\n",
    "        return ops.GradOperation(get_by_list=True)(self.network, weights)(x, label)"
   ]
  },
  {
   "cell_type": "code",
   "execution_count": 34,
   "id": "15d99c52-2d67-49f9-9fe6-e2e45938e7b4",
   "metadata": {},
   "outputs": [
    {
     "name": "stdout",
     "output_type": "stream",
     "text": [
      "1.4900769\n"
     ]
    }
   ],
   "source": [
    "# Set optimizer and loss function\n",
    "optimizer = Momentum(filter(lambda x: x.requires_grad, net.get_parameters()), 0.1, 0.9)\n",
    "criterion = nn.SoftmaxCrossEntropyWithLogits(sparse=True, reduction='mean') # Get the loss value through WithLossCell\n",
    "\n",
    "net_with_criterion = WithLossCell(net, criterion)\n",
    "\n",
    "train_network = GradWrap(net_with_criterion)\n",
    "train_network.set_train()\n",
    "\n",
    "# Generate input data\n",
    "input_data = Tensor(np.ones([32, 1, 32, 32]).astype(np.float32) * 0.01)\n",
    "label = Tensor(np.ones([32]).astype(np.int32))\n",
    "output = net(Tensor(input_data))\n",
    "\n",
    "# Use forward network to calculate loss\n",
    "loss_output = criterion(output, label) \n",
    "grads = train_network(input_data, label) # Optimize parameters\n",
    "success = optimizer(grads)\n",
    "loss = loss_output.asnumpy()\n",
    "\n",
    "print(loss)"
   ]
  }
 ],
 "metadata": {
  "kernelspec": {
   "display_name": "MindSpore",
   "language": "python",
   "name": "mindspore"
  },
  "language_info": {
   "codemirror_mode": {
    "name": "ipython",
    "version": 3
   },
   "file_extension": ".py",
   "mimetype": "text/x-python",
   "name": "python",
   "nbconvert_exporter": "python",
   "pygments_lexer": "ipython3",
   "version": "3.7.10"
  }
 },
 "nbformat": 4,
 "nbformat_minor": 5
}
